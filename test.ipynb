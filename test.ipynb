{
 "cells": [
  {
   "cell_type": "code",
   "execution_count": null,
   "metadata": {},
   "outputs": [
    {
     "data": {
      "text/plain": [
       "Imports successful!\n"
      ]
     },
     "metadata": {},
     "output_type": "display_data"
    }
   ],
   "source": [
    "import xrpl\n",
    "from xrpl.models.transactions import NFTokenMint, Payment\n",
    "from xrpl.wallet import Wallet, generate_faucet_wallet\n",
    "from xrpl.utils import get_nftoken_id\n",
    "import sys\n",
    "import os\n",
    "sys.path.append(os.path.abspath(\".\"))  # Adjust this path as needed\n",
    "from tutorial.mod1 import get_account, get_account_info, send_xrp\n",
    "from tutorial.mod2 import create_trust_line, send_currency, get_balance, configure_account\n",
    "from blockchain import EggBatch, EggSupplyChain"
   ]
  },
  {
   "cell_type": "code",
   "execution_count": null,
   "metadata": {},
   "outputs": [
    {
     "data": {
      "text/plain": [
       "Attempting to fund address rNb8wDX3ERB7KUQ7TsYKcJvVAe7k47M9Ff\n",
       "Faucet fund successful.\n"
      ]
     },
     "metadata": {},
     "output_type": "display_data"
    }
   ],
   "source": [
    "supply_chain = EggSupplyChain()\n",
    "test_wallet = generate_faucet_wallet(supply_chain.client, debug=True)\n",
    "supply_chain.add_user(test_wallet, \"farmer\", \"Farm Fresh Eggs\", \"37.419489; -86.302414\") "
   ]
  },
  {
   "cell_type": "code",
   "execution_count": null,
   "metadata": {},
   "outputs": [
    {
     "data": {
      "text/plain": [
       "00080000952D7981C2FB7C96580338A0827F6E41676580D01E4B6DAE00471014\n",
       "Traceback (most recent call last):\n",
       "  File \"/Users/ishayu/Documents/GitHub/tartanhacks25/blockchain.py\", line 172, in get_batch_info\n",
       "    response = self.client.request(req)\n",
       "               ^^^^^^^^^^^^^^^^^^^^^^^^\n",
       "  File \"/Users/ishayu/Documents/GitHub/tartanhacks25/.venv/lib/python3.12/site-packages/xrpl/clients/sync_client.py\", line 31, in request\n",
       "    return asyncio.run(self._request_impl(request))\n",
       "           ^^^^^^^^^^^^^^^^^^^^^^^^^^^^^^^^^^^^^^^^\n",
       "  File \"/opt/homebrew/Cellar/python@3.12/3.12.4/Frameworks/Python.framework/Versions/3.12/lib/python3.12/asyncio/runners.py\", line 194, in run\n",
       "    return runner.run(main)\n",
       "           ^^^^^^^^^^^^^^^^\n",
       "  File \"/opt/homebrew/Cellar/python@3.12/3.12.4/Frameworks/Python.framework/Versions/3.12/lib/python3.12/asyncio/runners.py\", line 118, in run\n",
       "    return self._loop.run_until_complete(task)\n",
       "           ^^^^^^^^^^^^^^^^^^^^^^^^^^^^^^^^^^^\n",
       "  File \"/opt/homebrew/Cellar/python@3.12/3.12.4/Frameworks/Python.framework/Versions/3.12/lib/python3.12/asyncio/base_events.py\", line 687, in run_until_complete\n",
       "    return future.result()\n",
       "           ^^^^^^^^^^^^^^^\n",
       "  File \"/Users/ishayu/Documents/GitHub/tartanhacks25/.venv/lib/python3.12/site-packages/xrpl/asyncio/clients/json_rpc_base.py\", line 46, in _request_impl\n",
       "    json=request_to_json_rpc(request),\n",
       "         ^^^^^^^^^^^^^^^^^^^^^^^^^^^^\n",
       "  File \"/Users/ishayu/Documents/GitHub/tartanhacks25/.venv/lib/python3.12/site-packages/xrpl/asyncio/clients/utils.py\", line 21, in request_to_json_rpc\n",
       "    params = request_object.to_dict()\n",
       "             ^^^^^^^^^^^^^^^^^^^^^^\n",
       "AttributeError: 'dict' object has no attribute 'to_dict'\n",
       "\n",
       "The above exception was the direct cause of the following exception:\n",
       "\n",
       "Traceback (most recent call last):\n",
       "  File \"/Users/ishayu/.vscode/extensions/ms-python.python-2025.0.0-darwin-arm64/python_files/python_server.py\", line 133, in exec_user_input\n",
       "    retval = callable_(user_input, user_globals)\n",
       "             ^^^^^^^^^^^^^^^^^^^^^^^^^^^^^^^^^^^\n",
       "  File \"<string>\", line 12, in <module>\n",
       "  File \"/Users/ishayu/Documents/GitHub/tartanhacks25/blockchain.py\", line 176, in get_batch_info\n",
       "    raise RuntimeError(\"Error retrieving NFT information\") from e\n",
       "RuntimeError: Error retrieving NFT information\n",
       "\n"
      ]
     },
     "metadata": {},
     "output_type": "display_data"
    }
   ],
   "source": [
    "test_batch = EggBatch(\n",
    "    batch_id=\"1234567890\",\n",
    "    farm_id=\"ABC123\",\n",
    "    production_date=\"2023-01-01\",\n",
    "    quantity=100,\n",
    "    quality_grade=\"A\",\n",
    "    expiration_date=\"2023-01-31\",\n",
    ")\n",
    "test_nft = supply_chain.create_nft(test_wallet, test_batch)\n",
    "test_nft_id = get_nftoken_id(test_nft.get(\"meta\"))\n",
    "print(test_nft_id)\n",
    "batch_info= supply_chain.get_batch_info(test_nft_id)\n",
    "print(batch_info)"
   ]
  },
  {
   "cell_type": "code",
   "execution_count": null,
   "metadata": {},
   "outputs": [],
   "source": [
    "acct_info = AccountInfo(\n",
    "    account=test_wallet.classic_address,\n",
    "    ledger_index=\"validated\",\n",
    "    strict=True,\n",
    ")\n",
    "response = supply_chain.client.request(acct_info)\n",
    "result = response.result\n",
    "print(\"response.status: \", response.status)\n",
    "import json\n",
    "print(json.dumps(response.result, indent=4, sort_keys=True))\n"
   ]
  }
 ],
 "metadata": {
  "language_info": {
   "name": "python"
  }
 },
 "nbformat": 4,
 "nbformat_minor": 2
}
