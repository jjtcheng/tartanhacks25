{
 "cells": [
  {
   "cell_type": "code",
   "execution_count": null,
   "metadata": {},
   "outputs": [
    {
     "data": {
      "text/plain": [
       "Imports successful!\n"
      ]
     },
     "metadata": {},
     "output_type": "display_data"
    }
   ],
   "source": [
    "import xrpl\n",
    "from xrpl.models.transactions import NFTokenMint, Payment\n",
    "from xrpl.wallet import Wallet, generate_faucet_wallet\n",
    "from xrpl.utils import get_nftoken_id\n",
    "import sys\n",
    "import os\n",
    "sys.path.append(os.path.abspath(\".\"))  # Adjust this path as needed\n",
    "from tutorial.mod1 import get_account, get_account_info, send_xrp\n",
    "from tutorial.mod2 import create_trust_line, send_currency, get_balance, configure_account\n",
    "from blockchain import EggBatch, EggSupplyChain"
   ]
  },
  {
   "cell_type": "code",
   "execution_count": null,
   "metadata": {},
   "outputs": [
    {
     "data": {
      "text/plain": [
       "Attempting to fund address r4dSnnJKir2mfmiZcGVDU8kM1p3EUeCzfL\n",
       "Faucet fund successful.\n"
      ]
     },
     "metadata": {},
     "output_type": "display_data"
    }
   ],
   "source": [
    "supply_chain = EggSupplyChain()\n",
    "test_wallet = generate_faucet_wallet(supply_chain.client, debug=True)\n",
    "test_wallet2 = generate_faucet_wallet(supply_chain.client, debug=True)\n",
    "test_wallet3 = generate_faucet_wallet(supply_chain.client, debug=True)\n",
    "supply_chain.add_user(test_wallet, 1, \"Farm Fresh Eggs\", \"37.419489; -86.302414\") \n",
    "supply_chain.add_user(test_wallet2, 2, \"Big Egg Sender\", \"87.419489; -36.302414\")\n",
    "supply_chain.add_user(test_wallet3, 3, \"Big Egg Receiver\", \"57.419489; -106.302414\")"
   ]
  },
  {
   "cell_type": "code",
   "execution_count": null,
   "metadata": {},
   "outputs": [
    {
     "data": {
      "text/plain": [
       "00080000ED3E8B2DE455C2B511792B92274F402DA54B8E694CC147D70047133B\n"
      ]
     },
     "metadata": {},
     "output_type": "display_data"
    }
   ],
   "source": [
    "test_batch = EggBatch(\n",
    "    batch_id=\"1234567890\",\n",
    "    farm_id=\"ABC123\",\n",
    "    production_date=\"2023-01-01\",\n",
    "    quantity=100,\n",
    "    quality_grade=\"A\",\n",
    "    expiration_date=\"2023-01-31\",\n",
    ")\n",
    "test_nft = supply_chain.create_nft(test_wallet, test_batch)\n",
    "test_nft_id = get_nftoken_id(test_nft.get(\"meta\"))\n",
    "print(test_nft_id)"
   ]
  },
  {
   "cell_type": "code",
   "execution_count": null,
   "metadata": {},
   "outputs": [],
   "source": []
  }
 ],
 "metadata": {
  "language_info": {
   "name": "python"
  }
 },
 "nbformat": 4,
 "nbformat_minor": 2
}
